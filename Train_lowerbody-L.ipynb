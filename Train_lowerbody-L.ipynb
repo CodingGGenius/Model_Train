{
 "cells": [
  {
   "cell_type": "code",
   "execution_count": 71,
   "id": "df266d2b-0f34-4579-80a8-398a68e652b4",
   "metadata": {},
   "outputs": [],
   "source": [
    "import numpy as np\n",
    "import os\n",
    "import matplotlib.pyplot as plt\n",
    "\n",
    "os.environ['CUDA_VISIBLE_DEVICES'] = '1'\n",
    "os.environ['TF_FORCE_GPU_ALLOW_GROWTH'] = 'true'"
   ]
  },
  {
   "cell_type": "code",
   "execution_count": 72,
   "id": "3b02a96a-bb28-4939-8b57-cec35a1c6ab5",
   "metadata": {
    "scrolled": true
   },
   "outputs": [],
   "source": [
    "# !pip install tensorflow-gpu==2.3\n",
    "# !pip install sklearn"
   ]
  },
  {
   "cell_type": "code",
   "execution_count": 73,
   "id": "ed352fe7-1d49-4531-b5df-1d7b4fae3386",
   "metadata": {},
   "outputs": [],
   "source": [
    "import tensorflow\n",
    "import tensorflow as tf"
   ]
  },
  {
   "cell_type": "code",
   "execution_count": 74,
   "id": "bc834e16",
   "metadata": {},
   "outputs": [
    {
     "data": {
      "text/plain": [
       "[]"
      ]
     },
     "execution_count": 74,
     "metadata": {},
     "output_type": "execute_result"
    }
   ],
   "source": [
    "tf.config.list_physical_devices('GPU')"
   ]
  },
  {
   "cell_type": "code",
   "execution_count": 75,
   "id": "7dbb8e82",
   "metadata": {
    "scrolled": true
   },
   "outputs": [
    {
     "data": {
      "text/plain": [
       "False"
      ]
     },
     "execution_count": 75,
     "metadata": {},
     "output_type": "execute_result"
    }
   ],
   "source": [
    "tf.test.is_gpu_available()"
   ]
  },
  {
   "cell_type": "code",
   "execution_count": 76,
   "id": "f505bea7",
   "metadata": {},
   "outputs": [
    {
     "data": {
      "text/plain": [
       "[name: \"/device:CPU:0\"\n",
       " device_type: \"CPU\"\n",
       " memory_limit: 268435456\n",
       " locality {\n",
       " }\n",
       " incarnation: 12344401564678218446]"
      ]
     },
     "execution_count": 76,
     "metadata": {},
     "output_type": "execute_result"
    }
   ],
   "source": [
    "from tensorflow.python.client import device_lib\n",
    "device_lib.list_local_devices()"
   ]
  },
  {
   "cell_type": "code",
   "execution_count": 77,
   "id": "dd72a9c2-68ef-469d-ab07-cf21f7b2f842",
   "metadata": {},
   "outputs": [
    {
     "data": {
      "text/plain": [
       "(3389, 30, 67)"
      ]
     },
     "execution_count": 77,
     "metadata": {},
     "output_type": "execute_result"
    }
   ],
   "source": [
    "actions = [\n",
    "     '1slap-L',\n",
    "     '1slap-R',\n",
    "     '2pushing-A',\n",
    "     '2pushing-L',\n",
    "     '2pushing-R',\n",
    "     '3punching-L',\n",
    "     '3puncning-R',\n",
    "     '4kicking-L',\n",
    "     '4kicking-R',\n",
    "     '5tread-L',\n",
    "     '5tread-R',\n",
    "     '6footpushing-L',\n",
    "     '6footpushing-R',\n",
    "     'normal']\n",
    "\n",
    "file_dir = 'C:/Users/chltp/detect_video/dataset/'#seq 파일을 dataset 폴더에 넣어주세요\n",
    "\n",
    "npy_file = []\n",
    "for name in os.listdir(file_dir):\n",
    "    if not len(np.load(file_dir + name)) == 0:\n",
    "        npy_file.append(np.load(file_dir + name))\n",
    "\n",
    "data = np.concatenate(npy_file, axis=0)\n",
    "\n",
    "data.shape"
   ]
  },
  {
   "cell_type": "code",
   "execution_count": 89,
   "id": "1ffbc0b4-6ba3-49ca-90a1-3a9afa3125a1",
   "metadata": {},
   "outputs": [
    {
     "name": "stdout",
     "output_type": "stream",
     "text": [
      "(3389, 30, 67)\n",
      "(3389,)\n"
     ]
    }
   ],
   "source": [
    "x_data = data[:, :, :]\n",
    "labels = data[:, 0, -1]\n",
    "\n",
    "print(x_data.shape)\n",
    "print(labels.shape)"
   ]
  },
  {
   "cell_type": "code",
   "execution_count": null,
   "id": "3ead60ca",
   "metadata": {},
   "outputs": [],
   "source": [
    "for i in range(3389):\n",
    "    for j in range(29):\n",
    "        if x_data[i][j][67]=='7' or x_data[i][j][67]=='9' or x_data[i][j][67]=='11':\n",
    "            x_data[i][j][67]='1'\n",
    "        elif x_data[i][j][67]='0'"
   ]
  },
  {
   "cell_type": "code",
   "execution_count": null,
   "id": "bfbcef50",
   "metadata": {},
   "outputs": [],
   "source": [
    "# punching = []\n",
    "# kicking = []\n",
    "# normal = []\n",
    "\n",
    "slap_L = []\n",
    "slap_R = []\n",
    "pushing_A = []\n",
    "pushing_L = []\n",
    "pushing_R = []\n",
    "punching_L = []\n",
    "puncning_R = []\n",
    "kicking_L = []\n",
    "kicking_R = []\n",
    "tread_L = []\n",
    "tread_R = []\n",
    "footpushing_L = []\n",
    "footpushing_R = []\n",
    "normal = []\n",
    "\n",
    "count = 0\n",
    "for count in range(len(x_data)):\n",
    "    temp_count = 0\n",
    "    temp = 0\n",
    "    for j in range(30):\n",
    "        for i in range(54, 66):\n",
    "            t = data[count][j][i]\n",
    "    #         print(t)\n",
    "            if t != 0 and not np.isnan(t):\n",
    "                temp += int(t)\n",
    "                temp_count += 1\n",
    "    #             print(temp)\n",
    "        if not temp_count == 0:\n",
    "            if data[count][j][66] == 0:\n",
    "                slap_L.append(temp / temp_count)\n",
    "            if data[count][j][66] == 1:\n",
    "                slap_R.append(temp / temp_count)\n",
    "            if data[count][j][66] == 2:\n",
    "                pushing_A.append(temp / temp_count)\n",
    "            if data[count][j][66] == 3:\n",
    "                pushing_L.append(temp / temp_count)\n",
    "            if data[count][j][66] == 4:\n",
    "                pushing_R.append(temp / temp_count)\n",
    "            if data[count][j][66] == 5:\n",
    "                punching_L.append(temp / temp_count)\n",
    "            if data[count][j][66] == 6:\n",
    "                puncning_R.append(temp / temp_count)\n",
    "            if data[count][j][66] == 7:\n",
    "                kicking_L.append(temp / temp_count)\n",
    "            if data[count][j][66] == 8:\n",
    "                kicking_R.append(temp / temp_count)\n",
    "            if data[count][j][66] == 9:\n",
    "                tread_L.append(temp / temp_count)\n",
    "            if data[count][j][66] == 10:\n",
    "                tread_R.append(temp / temp_count)\n",
    "            if data[count][j][66] == 11:\n",
    "                footpushing_L.append(temp / temp_count)\n",
    "            if data[count][j][66] == 12:\n",
    "                footpushing_R.append(temp / temp_count)\n",
    "            if data[count][j][66] == 13 and len(normal) < 40000:\n",
    "                normal.append(temp / temp_count)\n",
    "            \n",
    "plt.plot(slap_L, '--', slap_R, '--', pushing_A, '--', pushing_L, '--', pushing_R, '--', punching_L, '--', puncning_R, '--', kicking_L, '--', kicking_R, '--', tread_L, '--', tread_R, '--', footpushing_L, '--', footpushing_R, '--', normal, 'r--')\n",
    "plt.show()"
   ]
  },
  {
   "cell_type": "code",
   "execution_count": null,
   "id": "11d9fbca",
   "metadata": {},
   "outputs": [],
   "source": [
    "plt.plot(slap_L, 'r--', slap_R, 'r--', pushing_A, 'r--', pushing_L, 'r--', pushing_R, 'r--', punching_L, 'r--', puncning_R, 'r--', kicking_L, 'g--', kicking_R, 'g--', tread_L, 'g--', tread_R, 'g--', footpushing_L, 'g--', footpushing_R, 'g--', normal, 'b--')\n",
    "plt.show()"
   ]
  },
  {
   "cell_type": "code",
   "execution_count": null,
   "id": "28e409f0-8d39-435e-8c08-5fad41d4a3ca",
   "metadata": {
    "scrolled": true
   },
   "outputs": [],
   "source": [
    "from tensorflow.keras.utils import to_categorical\n",
    "\n",
    "y_data = to_categorical(labels, num_classes=len(actions))\n",
    "y_data.shape"
   ]
  },
  {
   "cell_type": "code",
   "execution_count": null,
   "id": "5ae18740",
   "metadata": {},
   "outputs": [],
   "source": [
    "y_data[0]"
   ]
  },
  {
   "cell_type": "code",
   "execution_count": null,
   "id": "8da1ec63",
   "metadata": {},
   "outputs": [],
   "source": [
    "array([0., 1.],"
   ]
  },
  {
   "cell_type": "code",
   "execution_count": null,
   "id": "99a4ccac-2408-4d17-a59d-0a922af6d07d",
   "metadata": {},
   "outputs": [],
   "source": [
    "from sklearn.model_selection import train_test_split\n",
    "\n",
    "\n",
    "x_data = x_data.astype(np.float32)\n",
    "y_data = y_data.astype(np.float32)\n",
    "\n",
    "x_train, x_val, y_train, y_val = train_test_split(x_data, y_data, test_size=0.1, random_state=2021)\n",
    "\n",
    "print(x_train.shape, y_train.shape)\n",
    "print(x_val.shape, y_val.shape)"
   ]
  },
  {
   "cell_type": "code",
   "execution_count": null,
   "id": "8f4f8add-69a4-4877-950b-0641794a0888",
   "metadata": {},
   "outputs": [],
   "source": [
    "from tensorflow.keras.models import Sequential\n",
    "from tensorflow.keras.layers import LSTM, Dense\n",
    "\n",
    "model = Sequential([\n",
    "    LSTM(64, activation='relu', input_shape=x_train.shape[1:3]),\n",
    "    Dense(32, activation='relu'),\n",
    "    Dense(len(actions), activation='softmax')\n",
    "])\n",
    "\n",
    "model.compile(optimizer='adam', loss='categorical_crossentropy', metrics=['acc'])\n",
    "model.summary()"
   ]
  },
  {
   "cell_type": "code",
   "execution_count": null,
   "id": "2163aeb0-bf60-4862-a205-003df3e6c64d",
   "metadata": {},
   "outputs": [],
   "source": [
    "from tensorflow.keras.callbacks import ModelCheckpoint, ReduceLROnPlateau\n",
    "\n",
    "history = model.fit(\n",
    "    x_train,\n",
    "    y_train,\n",
    "    validation_data=(x_val, y_val),\n",
    "    epochs=100,\n",
    "    callbacks=[\n",
    "        ModelCheckpoint('models/model.h5', monitor='val_acc', verbose=1, save_best_only=True, mode='auto'),\n",
    "        ReduceLROnPlateau(monitor='val_acc', factor=0.5, patience=50, verbose=1, mode='auto')\n",
    "    ]\n",
    ")"
   ]
  },
  {
   "cell_type": "code",
   "execution_count": null,
   "id": "fd950b19-8ab5-48f3-a818-b7e155f66b4e",
   "metadata": {},
   "outputs": [],
   "source": [
    "import matplotlib.pyplot as plt\n",
    "\n",
    "fig, loss_ax = plt.subplots(figsize=(16, 10))\n",
    "acc_ax = loss_ax.twinx()\n",
    "\n",
    "loss_ax.plot(history.history['loss'], 'y', label='train loss')\n",
    "loss_ax.plot(history.history['val_loss'], 'r', label='val loss')\n",
    "loss_ax.set_xlabel('epoch')\n",
    "loss_ax.set_ylabel('loss')\n",
    "loss_ax.legend(loc='upper left')\n",
    "\n",
    "acc_ax.plot(history.history['acc'], 'b', label='train acc')\n",
    "acc_ax.plot(history.history['val_acc'], 'g', label='val acc')\n",
    "acc_ax.set_ylabel('accuracy')\n",
    "acc_ax.legend(loc='upper left')\n",
    "\n",
    "plt.show()"
   ]
  },
  {
   "cell_type": "code",
   "execution_count": null,
   "id": "e1fb8422-096c-4221-bcee-81c053174c53",
   "metadata": {},
   "outputs": [],
   "source": [
    "from sklearn.metrics import multilabel_confusion_matrix\n",
    "from tensorflow.keras.models import load_model\n",
    "\n",
    "model = load_model('models/model.h5')\n",
    "\n",
    "y_pred = model.predict(x_val)\n",
    "\n",
    "multilabel_confusion_matrix(np.argmax(y_val, axis=1), np.argmax(y_pred, axis=1))"
   ]
  }
 ],
 "metadata": {
  "kernelspec": {
   "display_name": "Python 3",
   "language": "python",
   "name": "python3"
  },
  "language_info": {
   "codemirror_mode": {
    "name": "ipython",
    "version": 3
   },
   "file_extension": ".py",
   "mimetype": "text/x-python",
   "name": "python",
   "nbconvert_exporter": "python",
   "pygments_lexer": "ipython3",
   "version": "3.7.10"
  }
 },
 "nbformat": 4,
 "nbformat_minor": 5
}
