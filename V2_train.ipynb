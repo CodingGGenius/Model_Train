{
 "cells": [
  {
   "cell_type": "code",
   "execution_count": 1,
   "id": "df266d2b-0f34-4579-80a8-398a68e652b4",
   "metadata": {},
   "outputs": [],
   "source": [
    "import numpy as np\n",
    "import os\n",
    "import matplotlib.pyplot as plt\n",
    "os.environ['CUDA_VISIBLE_DEVICES'] = '1'\n",
    "os.environ['TF_FORCE_GPU_ALLOW_GROWTH'] = 'true'"
   ]
  },
  {
   "cell_type": "code",
   "execution_count": 2,
   "id": "3b02a96a-bb28-4939-8b57-cec35a1c6ab5",
   "metadata": {},
   "outputs": [],
   "source": [
    "# !pip install tensorflow-gpu==2.3.0\n",
    "# !pip install sklearn"
   ]
  },
  {
   "cell_type": "code",
   "execution_count": 3,
   "id": "ed352fe7-1d49-4531-b5df-1d7b4fae3386",
   "metadata": {},
   "outputs": [],
   "source": [
    "import tensorflow\n",
    "import tensorflow as tf\n",
    "from tensorflow import keras"
   ]
  },
  {
   "cell_type": "code",
   "execution_count": 4,
   "id": "d79d76f7-1209-4ee7-8230-e09d5f1b162f",
   "metadata": {},
   "outputs": [
    {
     "data": {
      "text/plain": [
       "[]"
      ]
     },
     "execution_count": 4,
     "metadata": {},
     "output_type": "execute_result"
    }
   ],
   "source": [
    "tf.config.list_physical_devices('GPU')"
   ]
  },
  {
   "cell_type": "code",
   "execution_count": 5,
   "id": "66042040-399a-4838-a00e-8e8bda8db4ad",
   "metadata": {},
   "outputs": [
    {
     "name": "stdout",
     "output_type": "stream",
     "text": [
      "WARNING:tensorflow:From <ipython-input-5-17bb7203622b>:1: is_gpu_available (from tensorflow.python.framework.test_util) is deprecated and will be removed in a future version.\n",
      "Instructions for updating:\n",
      "Use `tf.config.list_physical_devices('GPU')` instead.\n"
     ]
    },
    {
     "data": {
      "text/plain": [
       "False"
      ]
     },
     "execution_count": 5,
     "metadata": {},
     "output_type": "execute_result"
    }
   ],
   "source": [
    "tf.test.is_gpu_available()"
   ]
  },
  {
   "cell_type": "code",
   "execution_count": 6,
   "id": "a36f5f7b-fce3-47f6-a5e0-bf553ab72e66",
   "metadata": {},
   "outputs": [
    {
     "data": {
      "text/plain": [
       "[name: \"/device:CPU:0\"\n",
       " device_type: \"CPU\"\n",
       " memory_limit: 268435456\n",
       " locality {\n",
       " }\n",
       " incarnation: 8312718966666436346,\n",
       " name: \"/device:XLA_CPU:0\"\n",
       " device_type: \"XLA_CPU\"\n",
       " memory_limit: 17179869184\n",
       " locality {\n",
       " }\n",
       " incarnation: 10355096335216339117\n",
       " physical_device_desc: \"device: XLA_CPU device\"]"
      ]
     },
     "execution_count": 6,
     "metadata": {},
     "output_type": "execute_result"
    }
   ],
   "source": [
    "from tensorflow.python.client import device_lib\n",
    "device_lib.list_local_devices()"
   ]
  },
  {
   "cell_type": "code",
   "execution_count": 7,
   "id": "dd72a9c2-68ef-469d-ab07-cf21f7b2f842",
   "metadata": {},
   "outputs": [
    {
     "data": {
      "text/plain": [
       "(126775, 30, 3)"
      ]
     },
     "execution_count": 7,
     "metadata": {},
     "output_type": "execute_result"
    }
   ],
   "source": [
    "# part = 'right_arm'\n",
    "# part = 'left_arm'\n",
    "# part = 'right_leg'\n",
    "part = 'left_leg'\n",
    "\n",
    "actions = ['assult', 'normal']\n",
    "\n",
    "file_dir = 'C:/Users/BVer/are_you_ok/dataset/' + part + '/'#part 폴더를 dataset 폴더에 넣어주세요\n",
    "\n",
    "npy_file = []\n",
    "for name in os.listdir(file_dir):\n",
    "    if not len(np.load(file_dir + name)) == 0:\n",
    "        npy_file.append(np.load(file_dir + name))\n",
    "\n",
    "data = np.concatenate(npy_file, axis=0)\n",
    "\n",
    "data.shape"
   ]
  },
  {
   "cell_type": "code",
   "execution_count": 8,
   "id": "fcbab474-be57-49e8-becd-b121a117752a",
   "metadata": {},
   "outputs": [],
   "source": [
    "import datetime\n",
    "\n",
    "dir_name = \"Learning_log_\" + part\n",
    "\n",
    "def make_Tensorboard_dir(dir_name):\n",
    "    root_logdir = os.path.join(os.curdir, dir_name)\n",
    "    sub_dir_name = datetime.datetime.now().strftime(\"%Y%m%d-%H%M%S\")\n",
    "    return os.path.join(root_logdir, sub_dir_name)\n",
    "\n",
    "TB_log_dir = make_Tensorboard_dir(dir_name)\n",
    "TensorB = keras.callbacks.TensorBoard(log_dir = TB_log_dir)\n",
    "\n",
    "early_stop = keras.callbacks.EarlyStopping(monitor=\"val_loss\", min_delta = 0, patience = 10, restore_best_weights = True)\n"
   ]
  },
  {
   "cell_type": "code",
   "execution_count": 9,
   "id": "08b8a12a-2dd5-4fb7-b5bc-1c05a7a3f0ce",
   "metadata": {},
   "outputs": [],
   "source": [
    "if part == 'right_arm':\n",
    "    for i in range(len(data)):\n",
    "        for j in range(30):\n",
    "            if data[i][j][2] in [1, 2, 4, 6]:\n",
    "                data[i][j][2] = 0\n",
    "            else: data[i][j][2] = 1\n",
    "elif part == 'left_arm':\n",
    "    for i in range(len(data)):\n",
    "        for j in range(30):\n",
    "            if data[i][j][2] in [0, 2, 3, 5]:\n",
    "                data[i][j][2] = 0\n",
    "            else: data[i][j][2] = 1\n",
    "elif part == 'right_leg':\n",
    "    for i in range(len(data)):\n",
    "        for j in range(30):\n",
    "            if data[i][j][2] in [8, 10, 12]:\n",
    "                data[i][j][2] = 0\n",
    "            else: data[i][j][2] = 1\n",
    "elif part == 'left_leg':\n",
    "    for i in range(len(data)):\n",
    "        for j in range(30):\n",
    "            if data[i][j][2] in [7, 9, 11]:\n",
    "                data[i][j][2] = 0\n",
    "            else: data[i][j][2] = 1"
   ]
  },
  {
   "cell_type": "code",
   "execution_count": 10,
   "id": "1ffbc0b4-6ba3-49ca-90a1-3a9afa3125a1",
   "metadata": {},
   "outputs": [
    {
     "name": "stdout",
     "output_type": "stream",
     "text": [
      "(126775, 30, 2)\n",
      "(126775,)\n"
     ]
    }
   ],
   "source": [
    "x_data = data[:, :, :-1]\n",
    "labels = data[:, 0, -1]\n",
    "\n",
    "print(x_data.shape)\n",
    "print(labels.shape)"
   ]
  },
  {
   "cell_type": "code",
   "execution_count": 11,
   "id": "28e409f0-8d39-435e-8c08-5fad41d4a3ca",
   "metadata": {},
   "outputs": [
    {
     "data": {
      "text/plain": [
       "(126775, 2)"
      ]
     },
     "execution_count": 11,
     "metadata": {},
     "output_type": "execute_result"
    }
   ],
   "source": [
    "from tensorflow.keras.utils import to_categorical\n",
    "\n",
    "y_data = to_categorical(labels, num_classes=len(actions))\n",
    "y_data.shape"
   ]
  },
  {
   "cell_type": "code",
   "execution_count": 12,
   "id": "69b370c1-9333-4b05-8c82-2665b3ce9003",
   "metadata": {},
   "outputs": [
    {
     "data": {
      "text/plain": [
       "array([0., 1.], dtype=float32)"
      ]
     },
     "execution_count": 12,
     "metadata": {},
     "output_type": "execute_result"
    }
   ],
   "source": [
    "y_data[0]"
   ]
  },
  {
   "cell_type": "code",
   "execution_count": 13,
   "id": "99a4ccac-2408-4d17-a59d-0a922af6d07d",
   "metadata": {},
   "outputs": [
    {
     "name": "stdout",
     "output_type": "stream",
     "text": [
      "(114097, 30, 2) (114097, 2)\n",
      "(12678, 30, 2) (12678, 2)\n"
     ]
    }
   ],
   "source": [
    "from sklearn.model_selection import train_test_split\n",
    "\n",
    "x_data = x_data.astype(np.float32)\n",
    "y_data = y_data.astype(np.float32)\n",
    "\n",
    "x_train, x_val, y_train, y_val = train_test_split(x_data, y_data, test_size=0.1, random_state=2021)\n",
    "\n",
    "print(x_train.shape, y_train.shape)\n",
    "print(x_val.shape, y_val.shape)"
   ]
  },
  {
   "cell_type": "code",
   "execution_count": 14,
   "id": "8f4f8add-69a4-4877-950b-0641794a0888",
   "metadata": {},
   "outputs": [
    {
     "name": "stdout",
     "output_type": "stream",
     "text": [
      "Model: \"sequential\"\n",
      "_________________________________________________________________\n",
      "Layer (type)                 Output Shape              Param #   \n",
      "=================================================================\n",
      "lstm (LSTM)                  (None, 64)                17152     \n",
      "_________________________________________________________________\n",
      "dense (Dense)                (None, 32)                2080      \n",
      "_________________________________________________________________\n",
      "dense_1 (Dense)              (None, 2)                 66        \n",
      "=================================================================\n",
      "Total params: 19,298\n",
      "Trainable params: 19,298\n",
      "Non-trainable params: 0\n",
      "_________________________________________________________________\n"
     ]
    }
   ],
   "source": [
    "from tensorflow.keras.models import Sequential\n",
    "from tensorflow.keras.layers import LSTM, Dense\n",
    "from tensorflow.keras.optimizers import Adam\n",
    "\n",
    "model = Sequential([\n",
    "    LSTM(64, activation='relu', input_shape=x_train.shape[1:3]),\n",
    "    Dense(32, activation='relu'),\n",
    "    Dense(len(actions), activation='softmax')\n",
    "])\n",
    "\n",
    "model.compile(optimizer='adam', loss='categorical_crossentropy', metrics=['acc'])\n",
    "model.summary()"
   ]
  },
  {
   "cell_type": "code",
   "execution_count": 15,
   "id": "2163aeb0-bf60-4862-a205-003df3e6c64d",
   "metadata": {
    "scrolled": true,
    "tags": []
   },
   "outputs": [
    {
     "name": "stdout",
     "output_type": "stream",
     "text": [
      "Epoch 1/200\n",
      "   1/3566 [..............................] - ETA: 0s - loss: 24.2023 - acc: 0.5312WARNING:tensorflow:From C:\\Users\\BVer\\AppData\\Roaming\\Python\\Python37\\site-packages\\tensorflow\\python\\ops\\summary_ops_v2.py:1277: stop (from tensorflow.python.eager.profiler) is deprecated and will be removed after 2020-07-01.\n",
      "Instructions for updating:\n",
      "use `tf.profiler.experimental.stop` instead.\n",
      "   2/3566 [..............................] - ETA: 2:33 - loss: 21.7281 - acc: 0.6406WARNING:tensorflow:Callbacks method `on_train_batch_end` is slow compared to the batch time (batch time: 0.0171s vs `on_train_batch_end` time: 0.0688s). Check your callbacks.\n",
      "3565/3566 [============================>.] - ETA: 0s - loss: 2.5825 - acc: 0.9235\n",
      "Epoch 00001: val_acc improved from -inf to 0.95449, saving model to models\\left_leg_model.h5\n",
      "3566/3566 [==============================] - 23s 7ms/step - loss: 2.5821 - acc: 0.9235 - val_loss: 2.4714 - val_acc: 0.9545\n",
      "Epoch 2/200\n",
      "3559/3566 [============================>.] - ETA: 0s - loss: 0.3274 - acc: 0.9462\n",
      "Epoch 00002: val_acc improved from 0.95449 to 0.95583, saving model to models\\left_leg_model.h5\n",
      "3566/3566 [==============================] - 23s 6ms/step - loss: 0.3273 - acc: 0.9462 - val_loss: 0.2929 - val_acc: 0.9558\n",
      "Epoch 3/200\n",
      "3562/3566 [============================>.] - ETA: 0s - loss: 3.6554 - acc: 0.9464\n",
      "Epoch 00003: val_acc did not improve from 0.95583\n",
      "3566/3566 [==============================] - 24s 7ms/step - loss: 3.6521 - acc: 0.9464 - val_loss: 0.4326 - val_acc: 0.9506\n",
      "Epoch 4/200\n",
      "3565/3566 [============================>.] - ETA: 0s - loss: 4.4230 - acc: 0.9373\n",
      "Epoch 00004: val_acc did not improve from 0.95583\n",
      "3566/3566 [==============================] - 23s 7ms/step - loss: 4.4224 - acc: 0.9372 - val_loss: 0.4145 - val_acc: 0.9443\n",
      "Epoch 5/200\n",
      "3562/3566 [============================>.] - ETA: 0s - loss: 6.1599 - acc: 0.9384\n",
      "Epoch 00005: val_acc did not improve from 0.95583\n",
      "3566/3566 [==============================] - 23s 6ms/step - loss: 6.1539 - acc: 0.9385 - val_loss: 0.2372 - val_acc: 0.9520\n",
      "Epoch 6/200\n",
      "3561/3566 [============================>.] - ETA: 0s - loss: 0.4614 - acc: 0.9429\n",
      "Epoch 00006: val_acc did not improve from 0.95583\n",
      "3566/3566 [==============================] - 23s 6ms/step - loss: 0.4611 - acc: 0.9429 - val_loss: 0.1969 - val_acc: 0.9524\n",
      "Epoch 7/200\n",
      "3562/3566 [============================>.] - ETA: 0s - loss: 6.3226 - acc: 0.9473\n",
      "Epoch 00007: val_acc did not improve from 0.95583\n",
      "3566/3566 [==============================] - 23s 6ms/step - loss: 6.3177 - acc: 0.9473 - val_loss: 0.5424 - val_acc: 0.9548\n",
      "Epoch 8/200\n",
      "3565/3566 [============================>.] - ETA: 0s - loss: 0.2220 - acc: 0.9535\n",
      "Epoch 00008: val_acc did not improve from 0.95583\n",
      "3566/3566 [==============================] - 23s 6ms/step - loss: 0.2220 - acc: 0.9535 - val_loss: 0.1784 - val_acc: 0.9547\n",
      "Epoch 9/200\n",
      "3564/3566 [============================>.] - ETA: 0s - loss: 0.1664 - acc: 0.9542\n",
      "Epoch 00009: val_acc did not improve from 0.95583\n",
      "3566/3566 [==============================] - 23s 6ms/step - loss: 0.1664 - acc: 0.9542 - val_loss: 0.1493 - val_acc: 0.9543\n",
      "Epoch 10/200\n",
      "3562/3566 [============================>.] - ETA: 0s - loss: 0.1773 - acc: 0.9549\n",
      "Epoch 00010: val_acc did not improve from 0.95583\n",
      "3566/3566 [==============================] - 23s 6ms/step - loss: 0.1773 - acc: 0.9549 - val_loss: 0.1767 - val_acc: 0.9548\n",
      "Epoch 11/200\n",
      "3561/3566 [============================>.] - ETA: 0s - loss: 3.0431 - acc: 0.9548\n",
      "Epoch 00011: val_acc did not improve from 0.95583\n",
      "3566/3566 [==============================] - 23s 6ms/step - loss: 3.0395 - acc: 0.9548 - val_loss: 0.1770 - val_acc: 0.9548\n",
      "Epoch 12/200\n",
      "3558/3566 [============================>.] - ETA: 0s - loss: 794597.6875 - acc: 0.9486\n",
      "Epoch 00012: val_acc did not improve from 0.95583\n",
      "3566/3566 [==============================] - 23s 7ms/step - loss: 792919.3125 - acc: 0.9486 - val_loss: 1.5584 - val_acc: 0.9514\n",
      "Epoch 13/200\n",
      "3563/3566 [============================>.] - ETA: 0s - loss: 1.6729 - acc: 0.9348\n",
      "Epoch 00013: val_acc did not improve from 0.95583\n",
      "3566/3566 [==============================] - 23s 6ms/step - loss: 1.6718 - acc: 0.9348 - val_loss: 0.3610 - val_acc: 0.9186\n",
      "Epoch 14/200\n",
      "3563/3566 [============================>.] - ETA: 0s - loss: 9.3480 - acc: 0.9399\n",
      "Epoch 00014: val_acc did not improve from 0.95583\n",
      "3566/3566 [==============================] - 23s 6ms/step - loss: 9.3418 - acc: 0.9399 - val_loss: 0.8170 - val_acc: 0.8945\n",
      "Epoch 15/200\n",
      "3560/3566 [============================>.] - ETA: 0s - loss: 0.8511 - acc: 0.9374\n",
      "Epoch 00015: val_acc did not improve from 0.95583\n",
      "3566/3566 [==============================] - 23s 6ms/step - loss: 0.8523 - acc: 0.9374 - val_loss: 0.9442 - val_acc: 0.9546\n",
      "Epoch 16/200\n",
      "3562/3566 [============================>.] - ETA: 0s - loss: 0.6324 - acc: 0.9402\n",
      "Epoch 00016: val_acc did not improve from 0.95583\n",
      "3566/3566 [==============================] - 23s 6ms/step - loss: 0.6321 - acc: 0.9402 - val_loss: 0.3298 - val_acc: 0.9544\n",
      "Epoch 17/200\n",
      "3566/3566 [==============================] - ETA: 0s - loss: 0.4292 - acc: 0.9464\n",
      "Epoch 00017: val_acc did not improve from 0.95583\n",
      "3566/3566 [==============================] - 23s 6ms/step - loss: 0.4292 - acc: 0.9464 - val_loss: 0.2359 - val_acc: 0.9535\n",
      "Epoch 18/200\n",
      "3562/3566 [============================>.] - ETA: 0s - loss: 0.2161 - acc: 0.9522\n",
      "Epoch 00018: val_acc did not improve from 0.95583\n",
      "3566/3566 [==============================] - 23s 6ms/step - loss: 0.2162 - acc: 0.9522 - val_loss: 0.2005 - val_acc: 0.9509\n",
      "Epoch 19/200\n",
      "3558/3566 [============================>.] - ETA: 0s - loss: 0.2033 - acc: 0.9537\n",
      "Epoch 00019: val_acc did not improve from 0.95583\n",
      "3566/3566 [==============================] - 23s 6ms/step - loss: 0.2031 - acc: 0.9537 - val_loss: 0.1776 - val_acc: 0.9547\n"
     ]
    }
   ],
   "source": [
    "from tensorflow.keras.callbacks import ModelCheckpoint, ReduceLROnPlateau\n",
    "\n",
    "history = model.fit(\n",
    "    x_train,\n",
    "    y_train,\n",
    "    validation_data=(x_val, y_val),\n",
    "    epochs=200,\n",
    "    callbacks=[\n",
    "        ModelCheckpoint('models/' + part + '_model.h5', monitor='val_acc', verbose=1, save_best_only=True, mode='auto'),\n",
    "        ReduceLROnPlateau(monitor='val_acc', factor=0.5, patience=50, verbose=1, mode='auto'),\n",
    "        early_stop, TensorB\n",
    "    ]\n",
    ")"
   ]
  },
  {
   "cell_type": "code",
   "execution_count": 16,
   "id": "6380dc13-00cd-4acd-a90f-a4af809b24d5",
   "metadata": {},
   "outputs": [
    {
     "data": {
      "image/png": "[encoded data removed]",
      "text/plain": [
       "<Figure size 640x480 with 2 Axes>"
      ]
     },
     "metadata": {},
     "output_type": "display_data"
    }
   ],
   "source": [
    "import matplotlib.pyplot as plt\n",
    "\n",
    "fig, loss_ax = plt.subplots()\n",
    "acc_ax = loss_ax.twinx()\n",
    "\n",
    "loss_ax.plot(history.history['loss'], 'y', label='train loss')\n",
    "loss_ax.plot(history.history['val_loss'], 'r', label='val loss')\n",
    "loss_ax.set_xlabel('epoch')\n",
    "loss_ax.set_ylabel('loss')\n",
    "loss_ax.legend(loc='upper left')\n",
    "\n",
    "acc_ax.plot(history.history['acc'], 'b', label='train acc')\n",
    "acc_ax.plot(history.history['val_acc'], 'g', label='val acc')\n",
    "acc_ax.set_ylabel('accuracy')\n",
    "acc_ax.legend(loc='upper right')\n",
    "\n",
    "plt.show()"
   ]
  },
  {
   "cell_type": "code",
   "execution_count": 17,
   "id": "e1fb8422-096c-4221-bcee-81c053174c53",
   "metadata": {
    "tags": []
   },
   "outputs": [
    {
     "data": {
      "text/plain": [
       "array([[[9367,   24],\n",
       "        [ 269,   72]],\n",
       "\n",
       "       [[  72,  269],\n",
       "        [  24, 9367]]], dtype=int64)"
      ]
     },
     "execution_count": 17,
     "metadata": {},
     "output_type": "execute_result"
    }
   ],
   "source": [
    "from sklearn.metrics import multilabel_confusion_matrix\n",
    "from tensorflow.keras.models import load_model\n",
    "\n",
    "model = load_model('./models/' + part + '_model.h5')\n",
    "\n",
    "y_pred = model.predict(x_val)\n",
    "\n",
    "multilabel_confusion_matrix(np.argmax(y_val, axis=1), np.argmax(y_pred, axis=1))"
   ]
  },
  {
   "cell_type": "code",
   "execution_count": 18,
   "id": "287952a4-25d6-4acb-83c7-d8c5caca30eb",
   "metadata": {},
   "outputs": [],
   "source": [
    "file_dir1 = 'C:/Users/BVer/are_you_ok/preprocessing'"
   ]
  },
  {
   "cell_type": "code",
   "execution_count": 19,
   "id": "48d180f7-7851-40eb-aa9c-d4031f9c25ae",
   "metadata": {},
   "outputs": [],
   "source": [
    "raw_data = np.load(file_dir1 + '/kicking/' + 'raw_kicking_kicking_k24.mp4.npy')"
   ]
  },
  {
   "cell_type": "code",
   "execution_count": 27,
   "id": "507fb42d-a4e6-4fc6-9285-a0dd046ee8ce",
   "metadata": {},
   "outputs": [],
   "source": [
    "raw_data = np.load(file_dir1 + '/kicking/' + 'raw_kicking_kicking_k64.mp4.npy')"
   ]
  },
  {
   "cell_type": "code",
   "execution_count": 76,
   "id": "9bb8a0b8-59b9-40b0-b28f-58d29e7b36d3",
   "metadata": {},
   "outputs": [],
   "source": [
    "raw_data = np.load(file_dir1 + '/punching/' + 'raw_punching_pushing_k1.mp4.npy')"
   ]
  },
  {
   "cell_type": "code",
   "execution_count": 100,
   "id": "bc3ed05e-ef9f-4bfd-af27-a8ba83f09e22",
   "metadata": {},
   "outputs": [],
   "source": [
    "raw_data = np.load(file_dir1 + '/punching/' + 'raw_punching_punching_k8.mp4.npy')"
   ]
  },
  {
   "cell_type": "code",
   "execution_count": 22,
   "id": "112beec8-d1bc-48a2-8ea8-5b0846983ae3",
   "metadata": {},
   "outputs": [],
   "source": [
    "raw_data = np.load(file_dir1 + '/punching/' + 'raw_punching_slaping_k18.mp4.npy')"
   ]
  },
  {
   "cell_type": "code",
   "execution_count": 53,
   "id": "534b900c-4da8-49a4-8dca-3e2cd455df1b",
   "metadata": {},
   "outputs": [],
   "source": [
    "raw_data = np.load(file_dir1 + '/raw_data/' + 'raw_0_slaping_k31.mp4_0_.npy')"
   ]
  },
  {
   "cell_type": "code",
   "execution_count": 56,
   "id": "53fd091f-dee0-40d4-8911-314ed5699d26",
   "metadata": {},
   "outputs": [],
   "source": [
    "raw_data = np.load(file_dir1 + '/raw_data/' + 'raw_0_slaping_k29.mp4_0_.npy')"
   ]
  },
  {
   "cell_type": "code",
   "execution_count": 67,
   "id": "e3bf9cfc-7966-4eae-966c-14bf5d893014",
   "metadata": {},
   "outputs": [],
   "source": [
    "raw_data = np.load(file_dir1 + '/raw_data/' + 'raw_0_slaping_k18.mp4_1_.npy')"
   ]
  },
  {
   "cell_type": "code",
   "execution_count": 46,
   "id": "4682bd13-71a2-40d1-9865-90340d8e352a",
   "metadata": {},
   "outputs": [],
   "source": [
    "raw_data = np.load(file_dir1 + '/raw_data/' + 'raw_13_normal4.mp4_0_.npy')"
   ]
  },
  {
   "cell_type": "code",
   "execution_count": 47,
   "id": "407cf8fb-a2b3-45bc-b797-04013385757d",
   "metadata": {},
   "outputs": [
    {
     "data": {
      "text/plain": [
       "(5133, 67)"
      ]
     },
     "execution_count": 47,
     "metadata": {},
     "output_type": "execute_result"
    }
   ],
   "source": [
    "raw_data.shape"
   ]
  },
  {
   "cell_type": "code",
   "execution_count": 48,
   "id": "31817069-3c94-4808-9901-4177ec9909e6",
   "metadata": {},
   "outputs": [],
   "source": [
    "from tensorflow.keras.models import load_model\n",
    "\n",
    "right_arm_model = load_model('./models/right_arm_model.h5')\n",
    "left_arm_model = load_model('./models/left_arm_model.h5')\n",
    "right_leg_model = load_model('./models/right_leg_model.h5')\n",
    "left_leg_model = load_model('./models/left_leg_model.h5')"
   ]
  },
  {
   "cell_type": "code",
   "execution_count": 49,
   "id": "ab4dd4b2-c526-42ef-8ae6-6e366fb01bc6",
   "metadata": {},
   "outputs": [],
   "source": [
    "def pred_raw_part(test):\n",
    "    test = test[:, 54:-1]\n",
    "    seq_length = 30\n",
    "\n",
    "    actions = ['assult', 'normal']\n",
    "    \n",
    "    right_arm_seq = [] #2,3\n",
    "    left_arm_seq = [] #4,5\n",
    "    right_leg_seq = [] #7,8\n",
    "    left_leg_seq = [] #10,11\n",
    "\n",
    "    right_arm_action = 0\n",
    "    left_arm_action = 0\n",
    "    right_leg_action = 0      \n",
    "    left_leg_action = 0\n",
    "\n",
    "    nan_skip_count = 10 #오차 허용 프레임\n",
    "    \n",
    "    right_arm_nan = 0\n",
    "    left_arm_nan = 0\n",
    "    right_leg_nan = 0      \n",
    "    left_leg_nan = 0\n",
    "        \n",
    "    for index, angle_data in enumerate(test):\n",
    "        right_arm_nan = take_not_nan(angle_data[2], angle_data[3], right_arm_seq, right_arm_nan)\n",
    "        left_arm_nan = take_not_nan(angle_data[4], angle_data[5], left_arm_seq, left_arm_nan)\n",
    "        right_leg_nan = take_not_nan(angle_data[7], angle_data[8], right_leg_seq, right_leg_nan)\n",
    "        left_leg_nan = take_not_nan(angle_data[10], angle_data[11], left_leg_seq, left_leg_nan)\n",
    "        \n",
    "        if right_arm_nan == 15:\n",
    "            right_arm_seq = []\n",
    "            right_arm_action = 0\n",
    "        if left_arm_nan == 15:\n",
    "            left_arm_seq = []\n",
    "            left_arm_action = 0\n",
    "        if right_leg_nan == 15:\n",
    "            right_leg_seq = []\n",
    "            right_leg_action = 0\n",
    "        if left_leg_nan == 15:\n",
    "            left_leg_seq = []\n",
    "            left_leg_action = 0\n",
    "        \n",
    "        \n",
    "        right_arm_action = pred_part(right_arm_seq, right_arm_nan, right_arm_model, right_arm_action, 'right_arm')\n",
    "        left_arm_action = pred_part(left_arm_seq, left_arm_nan, left_arm_model, left_arm_action, 'left_arm')\n",
    "        right_leg_action = pred_part(right_leg_seq, right_leg_nan, right_leg_model, right_leg_action, 'right_leg')\n",
    "        left_leg_action = pred_part(left_leg_seq, left_leg_nan, left_leg_model, left_leg_action, 'left_leg')"
   ]
  },
  {
   "cell_type": "code",
   "execution_count": 52,
   "id": "a20957a0-6c86-4308-83f3-cfff8626a4f5",
   "metadata": {},
   "outputs": [],
   "source": [
    "def take_not_nan(key1, key2, part_seq, part_nan):\n",
    "    if not np.isnan(key1) and not np.isnan(key2):\n",
    "        part_seq.append([key1, key2])\n",
    "        return 0\n",
    "    else:\n",
    "        part_nan += 1\n",
    "        if part_nan > 10: #오차 허용 프레임\n",
    "            return 15\n",
    "        else:\n",
    "            return part_nan\n",
    "        \n",
    "def pred_part(part_seq, part_nan, part_model, part_action, part_name):\n",
    "    seq_length = 30\n",
    "    if len(part_seq) > seq_length and part_nan == 0:\n",
    "        input_data = np.expand_dims(np.array(part_seq[-seq_length:], dtype=np.float32), axis=0)\n",
    "        y_pred = part_model.predict(input_data).squeeze()\n",
    "\n",
    "        i_pred = int(np.argmax(y_pred))\n",
    "        conf = y_pred[i_pred]\n",
    "        \n",
    "#         print(conf, i_pred, part_name)\n",
    "\n",
    "        if conf > 0.5 and i_pred == 0: #신뢰도\n",
    "            part_action += 1\n",
    "            print(part_action)\n",
    "            if part_action > 2:\n",
    "                print(part_name, '  detect  assult ', conf)\n",
    "            return part_action\n",
    "        else:\n",
    "            return 0\n",
    "    return part_action"
   ]
  },
  {
   "cell_type": "code",
   "execution_count": 53,
   "id": "6a12416e-0fc2-4899-b7dd-004340ce8b23",
   "metadata": {
    "tags": []
   },
   "outputs": [
    {
     "name": "stdout",
     "output_type": "stream",
     "text": [
      "1\n",
      "2\n",
      "3\n",
      "right_arm   detect  assult  0.7269128\n",
      "4\n",
      "right_arm   detect  assult  0.7384429\n",
      "1\n",
      "2\n",
      "3\n",
      "right_arm   detect  assult  0.6863602\n",
      "4\n",
      "right_arm   detect  assult  0.7667644\n",
      "1\n",
      "2\n",
      "3\n",
      "right_arm   detect  assult  0.6827853\n",
      "4\n",
      "right_arm   detect  assult  0.65501714\n",
      "5\n",
      "right_arm   detect  assult  0.60551846\n",
      "1\n",
      "1\n",
      "2\n",
      "1\n",
      "1\n",
      "1\n",
      "1\n",
      "1\n",
      "2\n",
      "1\n",
      "1\n",
      "2\n",
      "3\n",
      "right_leg   detect  assult  0.7919584\n",
      "4\n",
      "right_leg   detect  assult  0.7234119\n",
      "5\n",
      "right_leg   detect  assult  0.70603997\n",
      "6\n",
      "right_leg   detect  assult  0.768806\n",
      "7\n",
      "right_leg   detect  assult  0.66453093\n",
      "1\n",
      "2\n",
      "1\n",
      "2\n",
      "3\n",
      "left_leg   detect  assult  0.56204003\n",
      "4\n",
      "left_leg   detect  assult  0.5473652\n",
      "5\n",
      "left_leg   detect  assult  0.8874635\n",
      "6\n",
      "left_leg   detect  assult  0.80719084\n",
      "7\n",
      "left_leg   detect  assult  0.74128383\n",
      "8\n",
      "left_leg   detect  assult  0.68282866\n",
      "9\n",
      "left_leg   detect  assult  0.5729641\n",
      "1\n",
      "1\n",
      "1\n",
      "2\n",
      "3\n",
      "right_leg   detect  assult  0.517606\n",
      "1\n",
      "2\n",
      "3\n",
      "right_arm   detect  assult  0.56081927\n",
      "1\n",
      "2\n",
      "3\n",
      "right_arm   detect  assult  0.6308519\n",
      "4\n",
      "right_arm   detect  assult  0.84621716\n",
      "5\n",
      "right_arm   detect  assult  0.60302585\n",
      "6\n",
      "right_arm   detect  assult  0.74654776\n",
      "7\n",
      "right_arm   detect  assult  0.5388581\n",
      "8\n",
      "right_arm   detect  assult  0.6409133\n",
      "9\n",
      "right_arm   detect  assult  0.6922943\n",
      "1\n",
      "2\n",
      "3\n",
      "right_arm   detect  assult  0.5219102\n",
      "4\n",
      "right_arm   detect  assult  0.66855323\n",
      "5\n",
      "right_arm   detect  assult  0.8562726\n",
      "6\n",
      "right_arm   detect  assult  0.78939575\n",
      "7\n",
      "right_arm   detect  assult  0.9691776\n",
      "8\n",
      "right_arm   detect  assult  0.90938914\n",
      "9\n",
      "right_arm   detect  assult  0.7818532\n",
      "1\n",
      "2\n",
      "3\n",
      "right_leg   detect  assult  0.95272714\n",
      "4\n",
      "right_leg   detect  assult  0.9577272\n",
      "5\n",
      "right_leg   detect  assult  0.5215451\n",
      "1\n",
      "2\n",
      "3\n",
      "right_arm   detect  assult  0.80116594\n",
      "4\n",
      "right_arm   detect  assult  0.86990094\n",
      "5\n",
      "right_arm   detect  assult  0.8215618\n",
      "1\n",
      "2\n",
      "1\n",
      "1\n",
      "2\n",
      "3\n",
      "right_arm   detect  assult  0.52375525\n",
      "4\n",
      "right_arm   detect  assult  0.6638686\n",
      "5\n",
      "right_arm   detect  assult  0.68372273\n",
      "6\n",
      "right_arm   detect  assult  0.57747257\n",
      "7\n",
      "right_arm   detect  assult  0.5400774\n",
      "8\n",
      "right_arm   detect  assult  0.72529113\n",
      "9\n",
      "right_arm   detect  assult  0.6065185\n",
      "1\n",
      "2\n",
      "3\n",
      "right_arm   detect  assult  0.84191453\n",
      "4\n",
      "right_arm   detect  assult  0.8600017\n",
      "5\n",
      "right_arm   detect  assult  0.8532438\n",
      "6\n",
      "right_arm   detect  assult  0.8959328\n",
      "7\n",
      "right_arm   detect  assult  0.8852364\n",
      "8\n",
      "right_arm   detect  assult  0.8548049\n",
      "9\n",
      "right_arm   detect  assult  0.9273049\n",
      "10\n",
      "right_arm   detect  assult  0.76422626\n",
      "11\n",
      "right_arm   detect  assult  0.60552526\n",
      "12\n",
      "right_arm   detect  assult  0.7051755\n",
      "13\n",
      "right_arm   detect  assult  0.6835235\n",
      "14\n",
      "right_arm   detect  assult  0.58895516\n",
      "1\n",
      "1\n",
      "2\n",
      "1\n",
      "2\n",
      "1\n",
      "1\n",
      "2\n",
      "3\n",
      "right_arm   detect  assult  0.5589308\n",
      "1\n",
      "1\n",
      "2\n",
      "3\n",
      "right_arm   detect  assult  0.8338178\n",
      "4\n",
      "right_arm   detect  assult  0.8620557\n",
      "5\n",
      "right_arm   detect  assult  0.82708365\n",
      "6\n",
      "right_arm   detect  assult  0.80947375\n",
      "7\n",
      "right_arm   detect  assult  0.8308398\n",
      "8\n",
      "right_arm   detect  assult  0.82733387\n",
      "9\n",
      "right_arm   detect  assult  0.81697345\n",
      "10\n",
      "right_arm   detect  assult  0.7898866\n",
      "11\n",
      "right_arm   detect  assult  0.76405746\n",
      "12\n",
      "right_arm   detect  assult  0.70935196\n",
      "13\n",
      "right_arm   detect  assult  0.67490894\n",
      "14\n",
      "right_arm   detect  assult  0.6367811\n",
      "15\n",
      "right_arm   detect  assult  0.5904716\n",
      "1\n",
      "2\n",
      "3\n",
      "right_arm   detect  assult  0.80293906\n",
      "4\n",
      "right_arm   detect  assult  0.7816501\n",
      "5\n",
      "right_arm   detect  assult  0.78038967\n",
      "6\n",
      "right_arm   detect  assult  0.80411255\n",
      "7\n",
      "right_arm   detect  assult  0.78788114\n",
      "8\n",
      "right_arm   detect  assult  0.78176016\n",
      "9\n",
      "right_arm   detect  assult  0.6452592\n",
      "1\n",
      "1\n",
      "2\n",
      "3\n",
      "right_arm   detect  assult  0.6911111\n",
      "4\n",
      "right_arm   detect  assult  0.7684523\n",
      "1\n",
      "2\n",
      "3\n",
      "right_arm   detect  assult  0.8608329\n",
      "4\n",
      "right_arm   detect  assult  0.81793946\n",
      "1\n",
      "2\n",
      "3\n",
      "right_arm   detect  assult  0.84991986\n",
      "4\n",
      "right_arm   detect  assult  0.859998\n",
      "5\n",
      "right_arm   detect  assult  0.78047824\n",
      "1\n",
      "2\n",
      "3\n",
      "right_arm   detect  assult  0.6404694\n",
      "4\n",
      "right_arm   detect  assult  0.5318705\n",
      "1\n",
      "1\n",
      "1\n",
      "1\n",
      "1\n",
      "2\n",
      "1\n",
      "2\n",
      "3\n",
      "left_leg   detect  assult  0.5161444\n",
      "4\n",
      "left_leg   detect  assult  0.64840895\n",
      "5\n",
      "left_leg   detect  assult  0.5999897\n",
      "1\n",
      "6\n",
      "left_leg   detect  assult  0.52742344\n",
      "2\n",
      "3\n",
      "right_arm   detect  assult  0.6377454\n",
      "4\n",
      "right_arm   detect  assult  0.671797\n",
      "5\n",
      "right_arm   detect  assult  0.69015056\n",
      "6\n",
      "right_arm   detect  assult  0.6641358\n",
      "7\n",
      "right_arm   detect  assult  0.7240014\n",
      "8\n",
      "right_arm   detect  assult  0.6399585\n",
      "9\n",
      "right_arm   detect  assult  0.6001481\n",
      "10\n",
      "right_arm   detect  assult  0.5100303\n",
      "1\n",
      "2\n",
      "3\n",
      "right_arm   detect  assult  0.87133545\n",
      "4\n",
      "right_arm   detect  assult  0.92127633\n",
      "5\n",
      "right_arm   detect  assult  0.81012267\n",
      "6\n",
      "right_arm   detect  assult  0.83348\n",
      "7\n",
      "right_arm   detect  assult  0.85139453\n",
      "8\n",
      "right_arm   detect  assult  0.8805497\n",
      "9\n",
      "right_arm   detect  assult  0.9031397\n",
      "10\n",
      "right_arm   detect  assult  0.91348106\n",
      "11\n",
      "right_arm   detect  assult  0.8986724\n",
      "12\n",
      "right_arm   detect  assult  0.8331749\n",
      "13\n",
      "right_arm   detect  assult  0.78877777\n",
      "14\n",
      "right_arm   detect  assult  0.8417946\n",
      "15\n",
      "right_arm   detect  assult  0.8375484\n",
      "16\n",
      "right_arm   detect  assult  0.8627013\n",
      "17\n",
      "right_arm   detect  assult  0.86742675\n",
      "18\n",
      "right_arm   detect  assult  0.8510629\n",
      "19\n",
      "right_arm   detect  assult  0.7054229\n",
      "20\n",
      "right_arm   detect  assult  0.6433416\n",
      "21\n",
      "right_arm   detect  assult  0.7291914\n",
      "22\n",
      "right_arm   detect  assult  0.5146266\n",
      "1\n",
      "2\n",
      "3\n",
      "right_leg   detect  assult  0.75862056\n",
      "4\n",
      "right_leg   detect  assult  0.7261317\n",
      "5\n",
      "right_leg   detect  assult  0.63065064\n",
      "1\n",
      "1\n",
      "2\n",
      "3\n",
      "right_arm   detect  assult  0.5137309\n",
      "4\n",
      "right_arm   detect  assult  0.5358708\n",
      "5\n",
      "right_arm   detect  assult  0.538879\n",
      "6\n",
      "right_arm   detect  assult  0.5508872\n",
      "7\n",
      "right_arm   detect  assult  0.59946275\n",
      "1\n",
      "2\n",
      "3\n",
      "right_arm   detect  assult  0.5247267\n",
      "1\n",
      "2\n",
      "1\n",
      "1\n",
      "2\n",
      "3\n",
      "right_arm   detect  assult  0.9663126\n",
      "4\n",
      "right_arm   detect  assult  0.9703691\n",
      "5\n",
      "right_arm   detect  assult  0.96948314\n",
      "6\n",
      "right_arm   detect  assult  0.9026331\n",
      "7\n",
      "right_arm   detect  assult  0.9068948\n",
      "8\n",
      "right_arm   detect  assult  0.7862806\n",
      "1\n",
      "2\n",
      "3\n",
      "right_arm   detect  assult  0.70103556\n",
      "1\n",
      "2\n",
      "3\n",
      "right_arm   detect  assult  0.81770444\n",
      "4\n",
      "right_arm   detect  assult  0.82056916\n",
      "5\n",
      "right_arm   detect  assult  0.6580906\n",
      "1\n",
      "2\n",
      "3\n",
      "right_arm   detect  assult  0.76452816\n",
      "4\n",
      "right_arm   detect  assult  0.9374528\n",
      "5\n",
      "right_arm   detect  assult  0.9352667\n",
      "6\n",
      "right_arm   detect  assult  0.9368423\n",
      "7\n",
      "right_arm   detect  assult  0.7208022\n",
      "8\n",
      "right_arm   detect  assult  0.75625426\n",
      "9\n",
      "right_arm   detect  assult  0.9090643\n",
      "10\n",
      "right_arm   detect  assult  0.9443704\n",
      "11\n",
      "right_arm   detect  assult  0.7965572\n",
      "1\n",
      "1\n",
      "1\n",
      "2\n",
      "3\n",
      "right_arm   detect  assult  0.5950119\n",
      "4\n",
      "right_arm   detect  assult  0.7036688\n",
      "5\n",
      "right_arm   detect  assult  0.6392598\n"
     ]
    }
   ],
   "source": [
    "pred_raw_part(raw_data)"
   ]
  },
  {
   "cell_type": "code",
   "execution_count": null,
   "id": "076042cc-4c62-48ce-9fe4-d0d3224dba22",
   "metadata": {},
   "outputs": [],
   "source": []
  }
 ],
 "metadata": {
  "kernelspec": {
   "display_name": "Python 3",
   "language": "python",
   "name": "python3"
  },
  "language_info": {
   "codemirror_mode": {
    "name": "ipython",
    "version": 3
   },
   "file_extension": ".py",
   "mimetype": "text/x-python",
   "name": "python",
   "nbconvert_exporter": "python",
   "pygments_lexer": "ipython3",
   "version": "3.7.10"
  }
 },
 "nbformat": 4,
 "nbformat_minor": 5
}
